{
  "nbformat": 4,
  "nbformat_minor": 0,
  "metadata": {
    "colab": {
      "provenance": [],
      "authorship_tag": "ABX9TyNWm1QPdq4tSl783COu3E22",
      "include_colab_link": true
    },
    "kernelspec": {
      "name": "python3",
      "display_name": "Python 3"
    },
    "language_info": {
      "name": "python"
    }
  },
  "cells": [
    {
      "cell_type": "markdown",
      "metadata": {
        "id": "view-in-github",
        "colab_type": "text"
      },
      "source": [
        "<a href=\"https://colab.research.google.com/github/haracharan/Home_Assignment-2_CNN/blob/main/Untitled8.ipynb\" target=\"_parent\"><img src=\"https://colab.research.google.com/assets/colab-badge.svg\" alt=\"Open In Colab\"/></a>"
      ]
    },
    {
      "cell_type": "code",
      "execution_count": 1,
      "metadata": {
        "colab": {
          "base_uri": "https://localhost:8080/"
        },
        "id": "p00uArKdsPQX",
        "outputId": "143c6413-4ac0-42a0-d656-08a8749e4418"
      },
      "outputs": [
        {
          "output_type": "stream",
          "name": "stdout",
          "text": [
            "Stride = 1, Padding = 'VALID':\n",
            "[[0. 0. 0.]\n",
            " [0. 0. 0.]\n",
            " [0. 0. 0.]]\n",
            "\n",
            "Stride = 1, Padding = 'SAME':\n",
            "[[  4.   3.   2.   1.  -6.]\n",
            " [ -5.   0.   0.   0. -11.]\n",
            " [-10.   0.   0.   0. -16.]\n",
            " [-15.   0.   0.   0. -21.]\n",
            " [-46. -27. -28. -29. -56.]]\n",
            "\n",
            "Stride = 2, Padding = 'VALID':\n",
            "[[0. 0.]\n",
            " [0. 0.]]\n",
            "\n",
            "Stride = 2, Padding = 'SAME':\n",
            "[[  4.   2.  -6.]\n",
            " [-10.   0. -16.]\n",
            " [-46. -28. -56.]]\n",
            "\n"
          ]
        }
      ],
      "source": [
        "import numpy as np\n",
        "import tensorflow as tf\n",
        "\n",
        "# Define the 5×5 input matrix\n",
        "input_matrix = np.array([\n",
        "    [1, 2, 3, 4, 5],\n",
        "    [6, 7, 8, 9, 10],\n",
        "    [11, 12, 13, 14, 15],\n",
        "    [16, 17, 18, 19, 20],\n",
        "    [21, 22, 23, 24, 25]\n",
        "], dtype=np.float32)\n",
        "\n",
        "# Define the 3×3 kernel\n",
        "kernel = np.array([\n",
        "    [0, 1, 0],\n",
        "    [1, -4, 1],\n",
        "    [0, 1, 0]\n",
        "], dtype=np.float32)\n",
        "\n",
        "# Reshape input and kernel for TensorFlow\n",
        "input_tensor = tf.constant(input_matrix.reshape(1, 5, 5, 1))  # (batch_size, height, width, channels)\n",
        "kernel_tensor = tf.constant(kernel.reshape(3, 3, 1, 1))  # (kernel_height, kernel_width, in_channels, out_channels)\n",
        "\n",
        "# Perform convolution operations with different strides and padding\n",
        "strides_list = [1, 2]\n",
        "padding_list = ['VALID', 'SAME']\n",
        "\n",
        "for stride in strides_list:\n",
        "    for padding in padding_list:\n",
        "        conv_output = tf.nn.conv2d(input_tensor, kernel_tensor, strides=[1, stride, stride, 1], padding=padding)\n",
        "        output_matrix = conv_output.numpy().squeeze()  # Convert to NumPy array and remove extra dimensions\n",
        "        print(f\"Stride = {stride}, Padding = '{padding}':\\n{output_matrix}\\n\")"
      ]
    }
  ]
}